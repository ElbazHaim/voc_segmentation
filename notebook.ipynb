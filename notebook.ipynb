{
 "cells": [
  {
   "cell_type": "code",
   "execution_count": null,
   "metadata": {},
   "outputs": [],
   "source": [
    "import yaml\n",
    "from torch import Tensor\n",
    "from torchvision import transforms\n",
    "from torchvision.transforms import Compose, ToTensor, Normalize, Resize\n",
    "from PIL.Image import NEAREST\n",
    "import pytorch_lightning as pl\n",
    "from torch.utils.data import DataLoader\n",
    "from pytorch_lightning.loggers import TensorBoardLogger\n",
    "from code.voc_segmentation.datamodules.dataset import VOC2012SegmentationDataset\n",
    "import matplotlib.pyplot as plt\n",
    "\n",
    "with open(\"/home/haim/code/voc_segmentation/utils/parameters.yaml\", \"r\") as yaml_file:\n",
    "    parameters = yaml.safe_load(yaml_file)"
   ]
  },
  {
   "cell_type": "code",
   "execution_count": null,
   "metadata": {},
   "outputs": [],
   "source": [
    "image_dir = \"/home/haim/hdd/data/voc/VOCdevkit/VOC2012/JPEGImages\"\n",
    "mask_dir = \"/home/haim/hdd/data/voc/VOCdevkit/VOC2012/SegmentationObject\"\n",
    "train_file = \"/home/haim/hdd/data/voc/VOCdevkit/VOC2012/ImageSets/Segmentation/train.txt\""
   ]
  },
  {
   "cell_type": "code",
   "execution_count": null,
   "metadata": {},
   "outputs": [],
   "source": [
    "image_transforms = Compose(\n",
    "    [\n",
    "        ToTensor(),\n",
    "        Resize((374, 500), antialias=True),\n",
    "    ]\n",
    ")\n",
    "mask_transforms = Compose(\n",
    "    [\n",
    "        ToTensor(),\n",
    "        Resize((374, 500), interpolation=NEAREST, antialias=True), \n",
    "    ]\n",
    ")\n",
    "train_dataset = VOC2012SegmentationDataset(\n",
    "    image_dir=image_dir,\n",
    "    mask_dir=mask_dir,\n",
    "    split=\"train\",\n",
    "    image_transforms=image_transforms,\n",
    "    mask_transforms=mask_transforms,\n",
    "    train_file=train_file,\n",
    ")"
   ]
  },
  {
   "cell_type": "code",
   "execution_count": null,
   "metadata": {},
   "outputs": [],
   "source": [
    "train_loader = DataLoader(train_dataset, batch_size=4, shuffle=False, num_workers=3)"
   ]
  },
  {
   "cell_type": "code",
   "execution_count": null,
   "metadata": {},
   "outputs": [],
   "source": [
    "def plot_image_with_mask(img, mask):\n",
    "    try:\n",
    "        img_to_display = img # transforms.functional.to_pil_image(img)\n",
    "        mask_to_display = transforms.functional.to_pil_image(mask)\n",
    "        plt.imshow(img_to_display.transpose(2, 0))\n",
    "        plt.imshow(mask_to_display.convert(\"RGB\"), alpha=0.6)\n",
    "        plt.show()\n",
    "    except TypeError:\n",
    "        img_to_display = img # transforms.functional.to_pil_image(img)\n",
    "        mask_to_display = mask\n",
    "        plt.imshow(img_to_display)  # .transpose(2, 0))\n",
    "        plt.imshow(mask_to_display.convert(\"RGB\"), alpha=0.6)\n",
    "        plt.show()"
   ]
  },
  {
   "cell_type": "code",
   "execution_count": null,
   "metadata": {},
   "outputs": [],
   "source": [
    "img, mask = next(iter(train_dataset))"
   ]
  },
  {
   "cell_type": "code",
   "execution_count": null,
   "metadata": {},
   "outputs": [],
   "source": [
    "img_batch, mask_batch = next(iter(train_loader))"
   ]
  },
  {
   "cell_type": "code",
   "execution_count": null,
   "metadata": {},
   "outputs": [],
   "source": [
    "plot_image_with_mask(img, mask)"
   ]
  },
  {
   "cell_type": "code",
   "execution_count": null,
   "metadata": {},
   "outputs": [],
   "source": []
  }
 ],
 "metadata": {
  "kernelspec": {
   "display_name": "lightning",
   "language": "python",
   "name": "python3"
  },
  "language_info": {
   "codemirror_mode": {
    "name": "ipython",
    "version": 3
   },
   "file_extension": ".py",
   "mimetype": "text/x-python",
   "name": "python",
   "nbconvert_exporter": "python",
   "pygments_lexer": "ipython3",
   "version": "3.11.5"
  },
  "orig_nbformat": 4
 },
 "nbformat": 4,
 "nbformat_minor": 2
}

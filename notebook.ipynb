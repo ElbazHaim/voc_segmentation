{
 "cells": [
  {
   "cell_type": "code",
   "execution_count": null,
   "metadata": {},
   "outputs": [],
   "source": [
    "import yaml\n",
    "\n",
    "from PIL.Image import NEAREST\n",
    "\n",
    "from torch.utils.data import DataLoader\n",
    "\n",
    "from torchvision import transforms\n",
    "from torchvision.transforms import Compose, ToTensor, Normalize, Resize\n",
    "\n",
    "import pytorch_lightning as pl\n",
    "from pytorch_lightning.loggers import TensorBoardLogger\n",
    "\n",
    "from datamodules.datamodule import VOC2012SegmentationDataModule"
   ]
  },
  {
   "cell_type": "code",
   "execution_count": null,
   "metadata": {},
   "outputs": [],
   "source": [
    "IMAGE_DIR = \"/home/haim/hdd/data/voc/VOCdevkit/VOC2012/JPEGImages\"\n",
    "MASK_DIR = \"/home/haim/hdd/data/voc/VOCdevkit/VOC2012/SegmentationObject\"\n",
    "TRAIN_FILE = (\n",
    "    \"/home/haim/hdd/data/voc/VOCdevkit/VOC2012/ImageSets/Segmentation/train.txt\"\n",
    ")\n",
    "VAL_FILE = (\n",
    "    \"/home/haim/hdd/data/voc/VOCdevkit/VOC2012/ImageSets/Segmentation/val.txt\"\n",
    ")\n",
    "MAX_EPOCHS = 2\n",
    "BATCH_SIZE = 4\n",
    "NUM_WORKERS=2"
   ]
  },
  {
   "cell_type": "code",
   "execution_count": null,
   "metadata": {},
   "outputs": [],
   "source": [
    "image_transforms = Compose(\n",
    "    [\n",
    "        ToTensor(),\n",
    "        Resize((374, 500), antialias=True),\n",
    "    ]\n",
    ")\n",
    "\n",
    "mask_transforms = Compose(\n",
    "    [\n",
    "        ToTensor(),\n",
    "        Resize((374, 500), interpolation=NEAREST, antialias=True),\n",
    "    ]\n",
    ")"
   ]
  },
  {
   "cell_type": "code",
   "execution_count": null,
   "metadata": {},
   "outputs": [],
   "source": [
    "datamodule = VOC2012SegmentationDataModule(\n",
    "    batch_size=BATCH_SIZE,\n",
    "    num_workers=NUM_WORKERS,\n",
    "    image_dir=IMAGE_DIR,\n",
    "    mask_dir=MASK_DIR,\n",
    "    image_transforms=image_transforms,\n",
    "    mask_transforms=mask_transforms,\n",
    "    train_file=TRAIN_FILE,\n",
    "    val_file=VAL_FILE,\n",
    ")"
   ]
  },
  {
   "cell_type": "code",
   "execution_count": null,
   "metadata": {},
   "outputs": [],
   "source": [
    "neural_network = SegMobileNet()"
   ]
  },
  {
   "cell_type": "code",
   "execution_count": null,
   "metadata": {},
   "outputs": [],
   "source": [
    "trainer = pl.Trainer(\n",
    "    max_epochs=MAX_EPOCHS,\n",
    "    accelerator=\"gpu\",\n",
    "    devices=1,\n",
    ")"
   ]
  }
 ],
 "metadata": {
  "kernelspec": {
   "display_name": "lightning",
   "language": "python",
   "name": "python3"
  },
  "language_info": {
   "codemirror_mode": {
    "name": "ipython",
    "version": 3
   },
   "file_extension": ".py",
   "mimetype": "text/x-python",
   "name": "python",
   "nbconvert_exporter": "python",
   "pygments_lexer": "ipython3",
   "version": "3.11.5"
  },
  "orig_nbformat": 4
 },
 "nbformat": 4,
 "nbformat_minor": 2
}
